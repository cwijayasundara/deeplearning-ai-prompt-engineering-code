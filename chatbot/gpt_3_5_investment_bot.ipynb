{
  "cells": [
    {
      "cell_type": "code",
      "execution_count": null,
      "metadata": {
        "id": "ofzfOWWvPXKc"
      },
      "outputs": [],
      "source": [
        "pip install inp openai"
      ]
    },
    {
      "cell_type": "code",
      "execution_count": 8,
      "metadata": {
        "id": "7qf_oD1TPemw"
      },
      "outputs": [],
      "source": [
        "import inp\n",
        "import openai\n",
        "\n",
        "openai.api_key = \"\"\n",
        "\n",
        "# MODEL=\"gpt-4\" if you want to use GPT-4 & gpt-3.5-turbo is free\n",
        "MODEL = \"gpt-3.5-turbo\"\n",
        "\n",
        "def get_completion_from_messages(messages_to_gpt, model=MODEL, temperature=0):\n",
        "    response_from_gpt = openai.ChatCompletion.create(\n",
        "        model=model,\n",
        "        messages=messages_to_gpt,\n",
        "        temperature=temperature,\n",
        "    )\n",
        "    return response_from_gpt.choices[0].message[\"content\"]"
      ]
    },
    {
      "cell_type": "code",
      "execution_count": 9,
      "metadata": {
        "id": "nkCaoF1lQb7c"
      },
      "outputs": [],
      "source": [
        "from curses import panel\n",
        "\n",
        "\n",
        "def collect_messages(_):\n",
        "    prompt = inp.value_input\n",
        "    inp.value = ''\n",
        "    context.append({'role':'user', 'content':f\"{prompt}\"})\n",
        "    response = get_completion_from_messages(context) \n",
        "    context.append({'role':'assistant', 'content':f\"{response}\"})\n",
        "    panel.append(\n",
        "        pn.Row('Customer:', pn.pane.Markdown(prompt, width=600, style={'background-color': '#fbe7e6'})))\n",
        "    panels.append(\n",
        "        pn.Row('Assistant:', pn.pane.Markdown(response, width=600, style={'background-color': '#babec2'})))\n",
        " \n",
        "    return pn.Column(*panels)"
      ]
    },
    {
      "cell_type": "code",
      "execution_count": 10,
      "metadata": {
        "colab": {
          "base_uri": "https://localhost:8080/",
          "height": 1000
        },
        "id": "Gs8liMQuQ9UF",
        "outputId": "bb83febe-521d-4502-f869-12f9184bada5"
      },
      "outputs": [
        {
          "ename": "ModuleNotFoundError",
          "evalue": "No module named 'panel'",
          "output_type": "error",
          "traceback": [
            "\u001b[0;31m---------------------------------------------------------------------------\u001b[0m",
            "\u001b[0;31mModuleNotFoundError\u001b[0m                       Traceback (most recent call last)",
            "\u001b[1;32m/Users/chamindawijayasundara/Documents/self_learn/open-ai-research/gpt-4-invoker/chatbot/gpt_3_5_investment_bot.ipynb Cell 4\u001b[0m in \u001b[0;36m<cell line: 1>\u001b[0;34m()\u001b[0m\n\u001b[0;32m----> <a href='vscode-notebook-cell:/Users/chamindawijayasundara/Documents/self_learn/open-ai-research/gpt-4-invoker/chatbot/gpt_3_5_investment_bot.ipynb#W3sZmlsZQ%3D%3D?line=0'>1</a>\u001b[0m \u001b[39mimport\u001b[39;00m \u001b[39mpanel\u001b[39;00m \u001b[39mas\u001b[39;00m \u001b[39mpn\u001b[39;00m\n\u001b[1;32m      <a href='vscode-notebook-cell:/Users/chamindawijayasundara/Documents/self_learn/open-ai-research/gpt-4-invoker/chatbot/gpt_3_5_investment_bot.ipynb#W3sZmlsZQ%3D%3D?line=1'>2</a>\u001b[0m pn\u001b[39m.\u001b[39mextension()\n\u001b[1;32m      <a href='vscode-notebook-cell:/Users/chamindawijayasundara/Documents/self_learn/open-ai-research/gpt-4-invoker/chatbot/gpt_3_5_investment_bot.ipynb#W3sZmlsZQ%3D%3D?line=2'>3</a>\u001b[0m panels \u001b[39m=\u001b[39m []\n",
            "\u001b[0;31mModuleNotFoundError\u001b[0m: No module named 'panel'"
          ]
        }
      ],
      "source": [
        "import panel as pn\n",
        "pn.extension()\n",
        "panels = []\n",
        "context = [ {'role':'system', 'content':\"\"\"\n",
        "You are an Investment Bot of the ABC Bank Plc, an automated service to collect details from Banks investment customers for the Invetment help desk. \\\n",
        "You first greet the customer, then collects the investment query, \\\n",
        "and then asks if he wishes to continue. \\\n",
        "There are 3 types of investments with the ABC Bank 1. ISA (annual investment limit is £20,000), 2. Shares (no limit) 3. properties (no limit)\n",
        "You wait to collect the entire Banks investment quert, then summarize it and check for a final \\\n",
        "time if the customer wants to ask anything else. \\\n",
        "If the customer wants to contact the Invetment help desk pls ask them to contact them on info@investmentdesk.com. \\\n",
        "If it's an investment, you ask for the amount the customer is planning to invest. \\\n",
        "The maximum invetment amount is £20,000 per annum. \\\n",
        "You may also check with the customer, the duration of investment. \\\n",
        "Finally you give some details about our charges.\\\n",
        "You respond in a short, very conversational friendly style. \\\n",
        "The investments charges ABC Bank Plc is charging is as follows \\\n",
        "To manage an ISA the bank chanrges 0.5% of the invetment amount \\\n",
        "To manage Shares the bank chanrges 0.7% of the invetment amount \\\n",
        "To manage properties the bank chanrges 1.0% of the invetment amount \\\n",
        "\"\"\"} ]\n",
        "\n",
        "inp = pn.widgets.TextInput(value=\"Hi\", placeholder='Enter your query here ..')\n",
        "button_conversation = pn.widgets.Button(name=\"Investment Bot!\")\n",
        "interactive_conversation = pn.bind(collect_messages, button_conversation)\n",
        "dashboard = pn.Column(\n",
        "    inp,\n",
        "    pn.Row(button_conversation),\n",
        "    pn.panel(interactive_conversation, loading_indicator=True, height=300),\n",
        ")\n",
        "dashboard"
      ]
    },
    {
      "cell_type": "code",
      "execution_count": 14,
      "metadata": {
        "colab": {
          "base_uri": "https://localhost:8080/"
        },
        "id": "u2I7sFZKRDEU",
        "outputId": "3d7d03e7-b7b1-4a1e-e376-ae6f698e5a5c"
      },
      "outputs": [
        {
          "name": "stdout",
          "output_type": "stream",
          "text": [
            "Sure, here's a JSON summary of the investment inquiry:\n",
            "\n",
            "```\n",
            "{\n",
            "  \"Investment Type\": \"Property\",\n",
            "  \"Investment Amount\": \"$10,000\",\n",
            "  \"Length in Years\": \"1\",\n",
            "  \"Other Queries\": \"What would be the return after 12 months?\"\n",
            "}\n",
            "```\n",
            "\n",
            "Please let me know if you need any further assistance.\n"
          ]
        }
      ],
      "source": [
        "messages =  context.copy()\n",
        "messages.append(\n",
        "{'role':'system', 'content':'create a json summary of the investment inquery. Itemize the query for each item\\\n",
        " The fields should be 1) Investment type 2) Investment amount 3) Length in years   4) Any other queries '},    \n",
        ")\n",
        "response = get_completion_from_messages(messages, temperature=0)\n",
        "print(response)"
      ]
    }
  ],
  "metadata": {
    "colab": {
      "provenance": []
    },
    "kernelspec": {
      "display_name": "Python 3",
      "name": "python3"
    },
    "language_info": {
      "codemirror_mode": {
        "name": "ipython",
        "version": 3
      },
      "file_extension": ".py",
      "mimetype": "text/x-python",
      "name": "python",
      "nbconvert_exporter": "python",
      "pygments_lexer": "ipython3",
      "version": "3.10.11"
    }
  },
  "nbformat": 4,
  "nbformat_minor": 0
}
